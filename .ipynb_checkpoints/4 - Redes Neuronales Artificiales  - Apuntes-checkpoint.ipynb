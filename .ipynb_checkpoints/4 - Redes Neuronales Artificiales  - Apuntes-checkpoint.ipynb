{
 "cells": [
  {
   "cell_type": "markdown",
   "metadata": {},
   "source": [
    "# 4. Redes Neuronales Artificiales"
   ]
  },
  {
   "cell_type": "markdown",
   "metadata": {},
   "source": [
    "## 4.1 Redes neuronales de una capa"
   ]
  },
  {
   "cell_type": "markdown",
   "metadata": {},
   "source": [
    "### 4.1.1 Implementación de ADALINE en Python"
   ]
  },
  {
   "cell_type": "code",
   "execution_count": 1,
   "metadata": {
    "ExecuteTime": {
     "end_time": "2018-03-12T11:41:33.827000+01:00",
     "start_time": "2018-03-12T11:41:29.192000"
    }
   },
   "outputs": [],
   "source": [
    "from sklearn.datasets import load_digits\n",
    "import numpy as np\n",
    "\n",
    "digits = load_digits ()\n",
    "X, Y = digits .data , digits.target"
   ]
  },
  {
   "cell_type": "code",
   "execution_count": 2,
   "metadata": {
    "ExecuteTime": {
     "end_time": "2018-03-12T11:41:34.118000+01:00",
     "start_time": "2018-03-12T11:41:33.828000"
    }
   },
   "outputs": [],
   "source": [
    "from sklearn . model_selection import train_test_split\n",
    "Y[(Y==1)+(Y==2)+(Y==3)+(Y==4)+(Y==5)+(Y==6)+(Y==7)+(Y==8)+(Y==9)] = -1\n",
    "Y[Y==0] = 1\n",
    "\n",
    "X_train , X_test , Y_train , Y_test = train_test_split (X,Y, test_size =0.4)"
   ]
  },
  {
   "cell_type": "code",
   "execution_count": 3,
   "metadata": {
    "ExecuteTime": {
     "end_time": "2018-03-12T11:41:34.120000+01:00",
     "start_time": "2018-03-12T11:41:34.119000"
    }
   },
   "outputs": [],
   "source": [
    "X_train = np.concatenate ([np. ones (( X_train . shape [0],1)), X_train ], axis =1)\n",
    "X_test = np.concatenate ([np. ones (( X_test . shape [0],1)), X_test ], axis =1)"
   ]
  },
  {
   "cell_type": "code",
   "execution_count": 4,
   "metadata": {
    "ExecuteTime": {
     "end_time": "2018-03-12T11:41:34.136000+01:00",
     "start_time": "2018-03-12T11:41:34.122000"
    }
   },
   "outputs": [],
   "source": [
    "N_ITER = 30000\n",
    "lr = 0.0005\n",
    "n = float ( X_train.shape [0])\n",
    "w = np.random.randn (65)"
   ]
  },
  {
   "cell_type": "code",
   "execution_count": 30,
   "metadata": {},
   "outputs": [
    {
     "data": {
      "image/png": "[encoded data removed]",
      "text/plain": [
       "<IPython.core.display.Image object>"
      ]
     },
     "execution_count": 30,
     "metadata": {
      "image/png": {
       "width": 350
      }
     },
     "output_type": "execute_result"
    }
   ],
   "source": []
  },
  {
   "cell_type": "markdown",
   "metadata": {},
   "source": [
    "Usaremos gradient descent para optimizar los pesos de nuestra neurona ADALINE. La idea fundamental de esta técnica consiste en calcular las derivadas parciales de la función de error respecto a cada peso para modificarlos el la dirección opuesta, buscando así de forma iterativa un mínimo en la función de error. Recuerda que el valor de una derivada de una función en un punto puede interpretarse como la pendiente de la recta tangencial a la función derivada en ese punto (ver figura)."
   ]
  },
  {
   "cell_type": "code",
   "execution_count": 5,
   "metadata": {
    "ExecuteTime": {
     "end_time": "2018-03-12T11:41:39.935000+01:00",
     "start_time": "2018-03-12T11:41:39.223000"
    }
   },
   "outputs": [],
   "source": [
    "#Ejecutamos N_ITER iteraciones de gradient descent, con un learning rate (alpha) igual a la variable lr  \n",
    "\n",
    "for i in range ( N_ITER ):\n",
    "    z = np.dot( X_train , w)\n",
    "    gradient = -np.dot (( Y_train - z).ravel () , X_train )/n\n",
    "    dw = -lr*gradient\n",
    "    w = w+dw"
   ]
  },
  {
   "cell_type": "markdown",
   "metadata": {},
   "source": [
    "En cada iteración, calculamos el vector de gradientes y actualizamos los pesos de nuestra neurona en la dirección opuesta:\n",
    "\n",
    " $\\large \\Delta w = -\\alpha \\cdot \\nabla _w L = -\\alpha \\cdot \\left [\\frac{\\partial L}{\\partial w_0}, \\cdots, \\frac{\\partial L}{\\partial w_d}\\right ]$\n",
    " \n",
    " donde \n",
    " $\\large \\frac{\\partial L}{\\partial w_i} = - \\frac{1}{n} \\sum_{j=1}^n (y^{(j)}- z(x^{(j)}))~x^{(j)}_i$"
   ]
  },
  {
   "cell_type": "markdown",
   "metadata": {},
   "source": [
    " $\\large w := w + \\Delta w  $"
   ]
  },
  {
   "cell_type": "code",
   "execution_count": 6,
   "metadata": {
    "ExecuteTime": {
     "end_time": "2018-03-12T11:41:41.370000+01:00",
     "start_time": "2018-03-12T11:41:41.367000"
    }
   },
   "outputs": [
    {
     "name": "stdout",
     "output_type": "stream",
     "text": [
      "0.990264255911\n"
     ]
    }
   ],
   "source": [
    "from sklearn . metrics import accuracy_score\n",
    "\n",
    "y_ = np. sign (np.dot( X_test , w))\n",
    "print (accuracy_score (Y_test , y_)) "
   ]
  },
  {
   "cell_type": "markdown",
   "metadata": {},
   "source": [
    "## 4.2 Red multi-clase de una capa"
   ]
  },
  {
   "cell_type": "markdown",
   "metadata": {},
   "source": [
    "### 4.2.1 Implementación de redes multi-clase de una capa en Python"
   ]
  },
  {
   "cell_type": "code",
   "execution_count": 7,
   "metadata": {
    "ExecuteTime": {
     "end_time": "2018-03-12T11:41:44.803000+01:00",
     "start_time": "2018-03-12T11:41:44.743000"
    }
   },
   "outputs": [],
   "source": [
    "from sklearn.datasets import load_digits\n",
    "import numpy as np\n",
    "from sklearn.metrics import accuracy_score\n",
    "digits = load_digits ()\n",
    "X, Y = digits .data , digits.target"
   ]
  },
  {
   "cell_type": "code",
   "execution_count": 8,
   "metadata": {
    "ExecuteTime": {
     "end_time": "2018-03-12T11:41:45.731000+01:00",
     "start_time": "2018-03-12T11:41:45.728000"
    }
   },
   "outputs": [],
   "source": [
    "from sklearn.model_selection import train_test_split\n",
    "X_train , X_test , Y_train , Y_test = train_test_split (X,Y, test_size =0.4)\n",
    "X_train = np.concatenate ([np.ones (( X_train.shape [0],1)), X_train ], axis =1)\n",
    "X_test = np.concatenate ([np.ones (( X_test.shape [0],1)), X_test ], axis =1)"
   ]
  },
  {
   "cell_type": "code",
   "execution_count": 9,
   "metadata": {
    "ExecuteTime": {
     "end_time": "2018-03-12T11:41:47.577000+01:00",
     "start_time": "2018-03-12T11:41:47.574000"
    }
   },
   "outputs": [],
   "source": [
    "Y_train_ohe = -np.ones (( Y_train.shape [0], 10))\n",
    "Y_test_ohe = -np.ones (( Y_test.shape [0], 10))\n",
    "\n",
    "for i in range ( Y_train.shape [0]):\n",
    "    Y_train_ohe [i, Y_train [i]] = 1\n",
    "for i in range ( Y_test.shape [0]):\n",
    "    Y_test_ohe [i, Y_test [i]] = 1"
   ]
  },
  {
   "cell_type": "code",
   "execution_count": 10,
   "metadata": {
    "ExecuteTime": {
     "end_time": "2018-03-12T11:41:52.234000+01:00",
     "start_time": "2018-03-12T11:41:52.232000"
    }
   },
   "outputs": [],
   "source": [
    "N_ITER = 50000\n",
    "lr = 0.00001\n",
    "n_neurons = 10\n",
    "n = float ( X_train . shape [0])\n",
    "W = np. random . randn (65 , n_neurons )/100."
   ]
  },
  {
   "cell_type": "code",
   "execution_count": 11,
   "metadata": {
    "ExecuteTime": {
     "end_time": "2018-03-12T11:41:56.689000+01:00",
     "start_time": "2018-03-12T11:41:53.023000"
    }
   },
   "outputs": [],
   "source": [
    "for i in range ( N_ITER ):\n",
    "    z = np.dot( X_train , W)\n",
    "    gradient = -np. dot( X_train .T, ( Y_train_ohe -z))/n\n",
    "    dw = -lr* gradient\n",
    "    W = W+dw"
   ]
  },
  {
   "cell_type": "code",
   "execution_count": 12,
   "metadata": {
    "ExecuteTime": {
     "end_time": "2018-03-12T11:42:06.049000+01:00",
     "start_time": "2018-03-12T11:42:06.047000"
    }
   },
   "outputs": [],
   "source": [
    "y = np.dot( X_test , W)"
   ]
  },
  {
   "cell_type": "code",
   "execution_count": 13,
   "metadata": {
    "ExecuteTime": {
     "end_time": "2018-03-12T11:42:07.494000+01:00",
     "start_time": "2018-03-12T11:42:07.487000"
    }
   },
   "outputs": [
    {
     "data": {
      "text/plain": [
       "0.94436717663421421"
      ]
     },
     "execution_count": 13,
     "metadata": {},
     "output_type": "execute_result"
    }
   ],
   "source": [
    "from sklearn . metrics import accuracy_score\n",
    "\n",
    "y = np. argmax (y, axis =1)\n",
    "accuracy_score (y, Y_test ) "
   ]
  },
  {
   "cell_type": "markdown",
   "metadata": {},
   "source": [
    "## 4.3 El perceptrón Multicapa"
   ]
  },
  {
   "cell_type": "markdown",
   "metadata": {},
   "source": [
    "### 4.3.1 Perceptrón Multicapa en Keras"
   ]
  },
  {
   "cell_type": "code",
   "execution_count": 14,
   "metadata": {
    "ExecuteTime": {
     "start_time": "2018-03-12T10:45:17.375Z"
    }
   },
   "outputs": [
    {
     "name": "stderr",
     "output_type": "stream",
     "text": [
      "Using TensorFlow backend.\n"
     ]
    }
   ],
   "source": [
    "from keras.models import Sequential\n",
    "from keras.layers import Dense, Activation\n",
    "from sklearn.datasets import load_digits\n",
    "\n",
    "import numpy as np\n",
    "\n",
    "data = load_digits()\n",
    "X = data[\"data\"]\n",
    "Y = data[\"target\"]"
   ]
  },
  {
   "cell_type": "code",
   "execution_count": 15,
   "metadata": {},
   "outputs": [],
   "source": [
    "from sklearn.model_selection import train_test_split\n",
    "\n",
    "X_train, X_test, Y_train, Y_test = train_test_split(X,Y, test_size=0.4)\n",
    "\n",
    "Y_train_ohe = np.zeros((Y_train.shape[0], 10))\n",
    "Y_test_ohe = np.zeros((Y_test.shape[0], 10))\n",
    "\n",
    "for i in range(Y_train.shape[0]):\n",
    "    Y_train_ohe[i, Y_train[i]] = 1\n",
    "    \n",
    "for i in range(Y_test.shape[0]):\n",
    "    Y_test_ohe[i, Y_test[i]] = 1"
   ]
  },
  {
   "cell_type": "code",
   "execution_count": 16,
   "metadata": {
    "ExecuteTime": {
     "end_time": "2018-03-12T11:42:29.095000+01:00",
     "start_time": "2018-03-12T11:42:29.094000"
    }
   },
   "outputs": [],
   "source": [
    "model = Sequential()\n",
    "\n",
    "model.add(Dense(100, input_dim=64, activation=\"sigmoid\"))\n",
    "model.add(Dense(10, activation=\"softmax\"))"
   ]
  },
  {
   "cell_type": "code",
   "execution_count": 17,
   "metadata": {},
   "outputs": [],
   "source": [
    "model.compile(loss='mse',\n",
    "              optimizer='sgd',\n",
    "              metrics=['accuracy'])"
   ]
  },
  {
   "cell_type": "code",
   "execution_count": null,
   "metadata": {
    "collapsed": true
   },
   "outputs": [],
   "source": [
    "model.fit(X_train, Y_train_ohe, nb_epoch=3000, batch_size=32)"
   ]
  },
  {
   "cell_type": "code",
   "execution_count": 20,
   "metadata": {},
   "outputs": [
    {
     "name": "stdout",
     "output_type": "stream",
     "text": [
      "_________________________________________________________________\n",
      "Layer (type)                 Output Shape              Param #   \n",
      "=================================================================\n",
      "dense_1 (Dense)              (None, 100)               6500      \n",
      "_________________________________________________________________\n",
      "dense_2 (Dense)              (None, 10)                1010      \n",
      "=================================================================\n",
      "Total params: 7,510.0\n",
      "Trainable params: 7,510\n",
      "Non-trainable params: 0.0\n",
      "_________________________________________________________________\n",
      "None\n"
     ]
    }
   ],
   "source": [
    "print (model.summary())"
   ]
  },
  {
   "cell_type": "code",
   "execution_count": 16,
   "metadata": {},
   "outputs": [
    {
     "name": "stdout",
     "output_type": "stream",
     "text": [
      "719/719 [==============================] - 0s 17us/step\n"
     ]
    },
    {
     "data": {
      "text/plain": [
       "[0.006057742572491872, 0.9694019514595849]"
      ]
     },
     "execution_count": 16,
     "metadata": {},
     "output_type": "execute_result"
    }
   ],
   "source": [
    "model.evaluate(X_test, Y_test_ohe, batch_size=100) #Imprime [0.0069, 0.9652] "
   ]
  },
  {
   "cell_type": "markdown",
   "metadata": {},
   "source": [
    "## 4.4 El paradigma del aprendizaje profundo"
   ]
  },
  {
   "cell_type": "markdown",
   "metadata": {},
   "source": [
    "### 4.4.2 Redes neuronales convolucionales profundas en Keras: Reconocimiento de dígitos escritos a mano"
   ]
  },
  {
   "cell_type": "code",
   "execution_count": 22,
   "metadata": {
    "ExecuteTime": {
     "end_time": "2017-09-29T11:01:16.009000+02:00",
     "start_time": "2017-09-29T11:01:16.007000"
    }
   },
   "outputs": [],
   "source": [
    "from keras.models import Sequential\n",
    "from keras.layers import Dense , Conv2D , MaxPooling2D , Flatten\n",
    "from keras.datasets import mnist\n",
    "import keras.backend as K\n",
    "import numpy as np\n",
    "import matplotlib.pyplot as plt"
   ]
  },
  {
   "cell_type": "code",
   "execution_count": 23,
   "metadata": {
    "ExecuteTime": {
     "end_time": "2017-09-29T11:01:35.571000+02:00",
     "start_time": "2017-09-29T11:01:35.570000"
    }
   },
   "outputs": [
    {
     "name": "stdout",
     "output_type": "stream",
     "text": [
      "channels_last\n"
     ]
    }
   ],
   "source": [
    "print (K.image_data_format()) # Imprime \" channels_last \""
   ]
  },
  {
   "cell_type": "code",
   "execution_count": 24,
   "metadata": {
    "ExecuteTime": {
     "end_time": "2017-09-29T11:16:29.305000+02:00",
     "start_time": "2017-09-29T11:16:29.127000"
    }
   },
   "outputs": [
    {
     "name": "stdout",
     "output_type": "stream",
     "text": [
      "(60000, 28, 28)\n"
     ]
    }
   ],
   "source": [
    "( X_train , Y_train ), (X_test , Y_test ) = mnist.load_data ()\n",
    "print ( X_train.shape) # Imprime (60000 , 28 , 28)"
   ]
  },
  {
   "cell_type": "code",
   "execution_count": 25,
   "metadata": {
    "ExecuteTime": {
     "end_time": "2017-09-29T11:02:07.316000+02:00",
     "start_time": "2017-09-29T11:02:06.950000"
    }
   },
   "outputs": [
    {
     "data": {
      "image/png": "[encoded data removed]",
      "text/plain": [
       "<Figure size 432x288 with 10 Axes>"
      ]
     },
     "metadata": {},
     "output_type": "display_data"
    }
   ],
   "source": [
    "%matplotlib inline\n",
    "\n",
    "f, axes = plt.subplots (1,10)\n",
    "for ax in axes.ravel():\n",
    "    ax.imshow ( X_train [np.random.randint ( 60000 )], cmap =\"gray\")\n",
    "    ax.get_xaxis ().set_visible (False)\n",
    "    ax.get_yaxis ().set_visible (False)\n",
    "plt.show()"
   ]
  },
  {
   "cell_type": "code",
   "execution_count": 26,
   "metadata": {
    "ExecuteTime": {
     "end_time": "2017-09-29T11:02:09.783000+02:00",
     "start_time": "2017-09-29T11:02:09.781000"
    }
   },
   "outputs": [],
   "source": [
    "#X_train = X_train.reshape ( X_train . shape [0], 28 , 28 , 1)\n",
    "#X_test = X_test.reshape ( X_test . shape [0], 28 , 28 , 1)\n",
    "#\n",
    "#from keras.utils import to_categorical\n",
    "#Y_train_ohe = to_categorical ( Y_train , num_classes =10)\n",
    "#Y_test_ohe = to_categorical (Y_test , num_classes =10)"
   ]
  },
  {
   "cell_type": "code",
   "execution_count": 27,
   "metadata": {
    "ExecuteTime": {
     "end_time": "2017-09-29T11:16:31.668000+02:00",
     "start_time": "2017-09-29T11:16:31.530000"
    }
   },
   "outputs": [],
   "source": [
    "X_train = X_train.reshape ( X_train.shape [0], 28 , 28 , 1)/255.\n",
    "X_test = X_test.reshape ( X_test.shape [0], 28 , 28 , 1)/255.\n",
    "\n",
    "from keras.utils import to_categorical\n",
    "Y_train_ohe = to_categorical(Y_train, num_classes=10)\n",
    "Y_test_ohe = to_categorical(Y_test, num_classes=10)"
   ]
  },
  {
   "cell_type": "code",
   "execution_count": 28,
   "metadata": {
    "ExecuteTime": {
     "end_time": "2017-09-29T11:16:32.289000+02:00",
     "start_time": "2017-09-29T11:16:32.038000"
    }
   },
   "outputs": [],
   "source": [
    "model = Sequential()\n",
    "\n",
    "model.add(Conv2D(25, kernel_size=(5,5), padding=\"same\", activation=\"relu\", input_shape= (28,28,1)))\n",
    "model.add(MaxPooling2D(padding=\"same\"))\n",
    "model.add(Flatten())\n",
    "model.add(Dense(400, activation=\"relu\"))\n",
    "model.add(Dense(10, activation=\"softmax\"))"
   ]
  },
  {
   "cell_type": "code",
   "execution_count": 24,
   "metadata": {
    "ExecuteTime": {
     "end_time": "2017-09-29T11:16:32.907000+02:00",
     "start_time": "2017-09-29T11:16:32.659000"
    }
   },
   "outputs": [
    {
     "name": "stdout",
     "output_type": "stream",
     "text": [
      "Epoch 1/10\n",
      "60000/60000 [==============================] - 82s 1ms/step - loss: 0.7188 - acc: 0.8255\n",
      "Epoch 2/10\n",
      "60000/60000 [==============================] - 80s 1ms/step - loss: 0.2842 - acc: 0.9179\n",
      "Epoch 3/10\n",
      "60000/60000 [==============================] - 80s 1ms/step - loss: 0.2279 - acc: 0.9341\n",
      "Epoch 4/10\n",
      "60000/60000 [==============================] - 81s 1ms/step - loss: 0.1924 - acc: 0.9445\n",
      "Epoch 5/10\n",
      "60000/60000 [==============================] - 81s 1ms/step - loss: 0.1659 - acc: 0.9520\n",
      "Epoch 6/10\n",
      "60000/60000 [==============================] - 81s 1ms/step - loss: 0.1460 - acc: 0.9580\n",
      "Epoch 7/10\n",
      "60000/60000 [==============================] - 81s 1ms/step - loss: 0.1308 - acc: 0.9628\n",
      "Epoch 8/10\n",
      "60000/60000 [==============================] - 81s 1ms/step - loss: 0.1182 - acc: 0.9658\n",
      "Epoch 9/10\n",
      "60000/60000 [==============================] - 81s 1ms/step - loss: 0.1079 - acc: 0.9685\n",
      "Epoch 10/10\n",
      "60000/60000 [==============================] - 81s 1ms/step - loss: 0.0994 - acc: 0.9715\n"
     ]
    },
    {
     "data": {
      "text/plain": [
       "<keras.callbacks.History at 0x182a49e8>"
      ]
     },
     "execution_count": 24,
     "metadata": {},
     "output_type": "execute_result"
    }
   ],
   "source": [
    "model.compile(loss='categorical_crossentropy', optimizer='sgd', metrics=['accuracy'])\n",
    "\n",
    "model.fit(X_train, Y_train_ohe, epochs=10, batch_size=100)"
   ]
  },
  {
   "cell_type": "code",
   "execution_count": 26,
   "metadata": {
    "ExecuteTime": {
     "end_time": "2017-09-29T11:17:13.662000+02:00",
     "start_time": "2017-09-29T11:17:12.902000"
    }
   },
   "outputs": [
    {
     "name": "stdout",
     "output_type": "stream",
     "text": [
      "10000/10000 [==============================] - 4s 393us/step\n"
     ]
    },
    {
     "data": {
      "text/plain": [
       "[0.09624678705409169, 0.9726]"
      ]
     },
     "execution_count": 26,
     "metadata": {},
     "output_type": "execute_result"
    }
   ],
   "source": [
    "model.evaluate (X_test , Y_test_ohe ) # Imprime [0.0671 , 0. 9808 ]\n"
   ]
  },
  {
   "cell_type": "markdown",
   "metadata": {},
   "source": [
    "### 4.4.3 Redes neuronales convolucionales profundas en Keras: Reconocimiento de objetos en imágenes a color"
   ]
  },
  {
   "cell_type": "code",
   "execution_count": 30,
   "metadata": {
    "ExecuteTime": {
     "end_time": "2018-02-27T20:52:11.805000+01:00",
     "start_time": "2018-02-27T20:51:57.236000"
    }
   },
   "outputs": [],
   "source": [
    "from keras.models import Sequential\n",
    "from keras.layers import Dense, Conv2D, MaxPooling2D, Flatten, Dropout\n",
    "from keras.datasets import cifar10\n",
    "import keras.backend as K\n",
    "\n",
    "import matplotlib.pyplot as plt\n",
    "import numpy as np"
   ]
  },
  {
   "cell_type": "code",
   "execution_count": 31,
   "metadata": {
    "ExecuteTime": {
     "end_time": "2018-02-27T20:52:17.004000+01:00",
     "start_time": "2018-02-27T20:52:13.114000"
    }
   },
   "outputs": [
    {
     "data": {
      "image/png": "[encoded data removed]",
      "text/plain": [
       "<Figure size 432x288 with 10 Axes>"
      ]
     },
     "metadata": {},
     "output_type": "display_data"
    }
   ],
   "source": [
    "(X_train, Y_train), (X_test, Y_test) = cifar10.load_data()\n",
    "\n",
    "f, axes = plt.subplots(1,10)\n",
    "\n",
    "for ax in axes.ravel():\n",
    "    ax.imshow(X_train[np.random.randint(50000)])\n",
    "    ax.get_xaxis().set_visible(False)\n",
    "    ax.get_yaxis().set_visible(False)\n",
    "    \n",
    "    \n",
    "plt.show()"
   ]
  },
  {
   "cell_type": "code",
   "execution_count": 32,
   "metadata": {
    "ExecuteTime": {
     "end_time": "2018-02-27T20:52:23.042000+01:00",
     "start_time": "2018-02-27T20:52:22.561000"
    }
   },
   "outputs": [],
   "source": [
    "from keras.utils import to_categorical\n",
    "\n",
    "X_train = X_train/255.\n",
    "X_test = X_test/255.\n",
    "\n",
    "Y_train_ohe = to_categorical(Y_train, num_classes=10)\n",
    "Y_test_ohe = to_categorical(Y_test, num_classes=10)"
   ]
  },
  {
   "cell_type": "code",
   "execution_count": 33,
   "metadata": {
    "ExecuteTime": {
     "end_time": "2018-02-27T20:52:28.222000+01:00",
     "start_time": "2018-02-27T20:52:24.585000"
    }
   },
   "outputs": [],
   "source": [
    "model = Sequential()\n",
    "\n",
    "model.add(Conv2D(32, (3, 3), padding='same', activation=\"relu\",  input_shape=(32,32,3)))\n",
    "model.add(Conv2D(32, (3, 3), activation=\"relu\"))\n",
    "model.add(MaxPooling2D(pool_size=(2, 2)))\n",
    "model.add(Dropout(0.25))\n",
    "\n",
    "model.add(Conv2D(64, (3, 3), padding='same', activation=\"relu\"))\n",
    "model.add(Conv2D(64, (3, 3), activation=\"relu\"))\n",
    "model.add(MaxPooling2D(pool_size=(2, 2)))\n",
    "model.add(Dropout(0.25))\n",
    "\n",
    "model.add(Flatten())\n",
    "model.add(Dense(512, activation=\"relu\"))\n",
    "model.add(Dropout(0.5))\n",
    "model.add(Dense(10, activation=\"softmax\"))"
   ]
  },
  {
   "cell_type": "code",
   "execution_count": 34,
   "metadata": {
    "ExecuteTime": {
     "end_time": "2018-02-27T20:52:28.233000+01:00",
     "start_time": "2018-02-27T20:52:28.223000"
    }
   },
   "outputs": [],
   "source": [
    "model.compile( loss =\"categorical_crossentropy\", optimizer =\"RMSprop\", metrics=[\"accuracy\"])"
   ]
  },
  {
   "cell_type": "code",
   "execution_count": 35,
   "metadata": {
    "ExecuteTime": {
     "end_time": "2017-09-29T11:31:14.963000+02:00",
     "start_time": "2017-09-29T11:31:14.874000"
    }
   },
   "outputs": [],
   "source": [
    "from keras.utils import plot_model\n",
    "plot_model(model, to_file='model.png', show_shapes=True, show_layer_names=False)"
   ]
  },
  {
   "cell_type": "code",
   "execution_count": 7,
   "metadata": {
    "ExecuteTime": {
     "start_time": "2018-02-27T22:58:46.598Z"
    }
   },
   "outputs": [
    {
     "name": "stderr",
     "output_type": "stream",
     "text": [
      "/usr/local/lib/python3.5/dist-packages/keras/models.py:826: UserWarning: The `nb_epoch` argument in `fit` has been renamed `epochs`.\n",
      "  warnings.warn('The `nb_epoch` argument in `fit` '\n"
     ]
    },
    {
     "name": "stdout",
     "output_type": "stream",
     "text": [
      "Epoch 1/10\n",
      "50000/50000 [==============================] - 163s - loss: 1.6999 - acc: 0.3842   \n",
      "Epoch 2/10\n",
      "50000/50000 [==============================] - 160s - loss: 1.2627 - acc: 0.5522   \n",
      "Epoch 3/10\n",
      "50000/50000 [==============================] - 164s - loss: 1.0602 - acc: 0.6286   \n",
      "Epoch 4/10\n",
      "50000/50000 [==============================] - 158s - loss: 0.9316 - acc: 0.6738   \n",
      "Epoch 5/10\n",
      "50000/50000 [==============================] - 156s - loss: 0.8516 - acc: 0.7043   \n",
      "Epoch 6/10\n",
      "50000/50000 [==============================] - 158s - loss: 0.7969 - acc: 0.7229   \n",
      "Epoch 7/10\n",
      "50000/50000 [==============================] - 158s - loss: 0.7655 - acc: 0.7358   \n",
      "Epoch 8/10\n",
      "50000/50000 [==============================] - 158s - loss: 0.7434 - acc: 0.7453   \n",
      "Epoch 9/10\n",
      "50000/50000 [==============================] - 161s - loss: 0.7346 - acc: 0.7502   \n",
      "Epoch 10/10\n",
      "50000/50000 [==============================] - 164s - loss: 0.7189 - acc: 0.7579   \n"
     ]
    },
    {
     "data": {
      "text/plain": [
       "<keras.callbacks.History at 0x7f7ccf1c1a20>"
      ]
     },
     "execution_count": 7,
     "metadata": {},
     "output_type": "execute_result"
    }
   ],
   "source": [
    "model.fit ( X_train , Y_train_ohe , nb_epoch= 10 , batch_size =100)"
   ]
  },
  {
   "cell_type": "code",
   "execution_count": 7,
   "metadata": {
    "ExecuteTime": {
     "end_time": "2018-02-27T21:23:48.445000+01:00",
     "start_time": "2018-02-27T21:23:26.311000"
    }
   },
   "outputs": [
    {
     "name": "stdout",
     "output_type": "stream",
     "text": [
      " 9824/10000 [============================>.] - ETA: 0s[0.62383600907325742, 0.79049999999999998]\n"
     ]
    }
   ],
   "source": [
    "print(model.evaluate(X_test, Y_test_ohe)) #Imprime [0.68015, 0.7848]"
   ]
  },
  {
   "cell_type": "code",
   "execution_count": 8,
   "metadata": {
    "ExecuteTime": {
     "end_time": "2018-02-27T21:25:54.653000+01:00",
     "start_time": "2018-02-27T21:25:54.593000"
    }
   },
   "outputs": [],
   "source": [
    "model.save(\"CIFAR10_trained_lat\")"
   ]
  },
  {
   "cell_type": "code",
   "execution_count": 10,
   "metadata": {
    "ExecuteTime": {
     "end_time": "2017-09-29T11:36:12.577000+02:00",
     "start_time": "2017-09-29T11:36:03.711000"
    },
    "code_folding": []
   },
   "outputs": [
    {
     "data": {
      "image/png": "[encoded data removed]",
      "text/plain": [
       "<Figure size 432x288 with 1 Axes>"
      ]
     },
     "metadata": {},
     "output_type": "display_data"
    },
    {
     "name": "stdout",
     "output_type": "stream",
     "text": [
      "(1, 32, 32, 32)\n"
     ]
    },
    {
     "data": {
      "image/png": "[encoded data removed]",
      "text/plain": [
       "<Figure size 432x288 with 8 Axes>"
      ]
     },
     "metadata": {},
     "output_type": "display_data"
    }
   ],
   "source": [
    "def get_activations(model, layer_idx, X_batch):\n",
    "    from keras import backend as K\n",
    "    \n",
    "    inp = model.input                                          \n",
    "    outputs = [layer.output for layer in model.layers]          \n",
    "    functors = [K.function([inp]+ [K.learning_phase()], [out]) for out in outputs]  \n",
    "\n",
    "    return functors[layer_idx]((X_batch, 1.))[0]\n",
    "\n",
    "fmaps = get_activations(model, 0, X_train[4:5])\n",
    "\n",
    "plt.imshow(X_train[4], interpolation=\"None\")\n",
    "plt.show()\n",
    "\n",
    "print (fmaps.shape) #Imprime (1L, 32L, 32L, 32L)\n",
    "\n",
    "f, axes = plt.subplots(1,8)\n",
    "i = 0\n",
    "\n",
    "for ax in axes.ravel():\n",
    "        \n",
    "    ax.imshow(fmaps[0,:,:,i], cmap=\"gray\", interpolation=\"None\")\n",
    "    ax.get_xaxis().set_visible(False)\n",
    "    ax.get_yaxis().set_visible(False)\n",
    "    \n",
    "    i = i+1\n",
    "    \n",
    "plt.show()"
   ]
  },
  {
   "cell_type": "code",
   "execution_count": 19,
   "metadata": {
    "ExecuteTime": {
     "end_time": "2017-09-29T11:39:50.180000+02:00",
     "start_time": "2017-09-29T11:39:49.661000"
    }
   },
   "outputs": [
    {
     "data": {
      "image/png": "[encoded data removed]",
      "text/plain": [
       "<Figure size 432x288 with 10 Axes>"
      ]
     },
     "metadata": {},
     "output_type": "display_data"
    }
   ],
   "source": [
    "f, axes = plt.subplots(1,10)\n",
    "\n",
    "for ax in axes.ravel():\n",
    "    idx = np.random.randint(32)\n",
    "    kernels = model.layers[0].get_weights()[0][:,:,:, idx]\n",
    "    kernels -= np.min(kernels)\n",
    "    kernels = kernels/np.max(kernels)\n",
    "    ax.imshow(kernels)\n",
    "    ax.get_xaxis().set_visible(False)\n",
    "    ax.get_yaxis().set_visible(False)\n",
    "    \n",
    "    \n",
    "plt.show()"
   ]
  },
  {
   "cell_type": "code",
   "execution_count": null,
   "metadata": {},
   "outputs": [],
   "source": []
  }
 ],
 "metadata": {
  "kernelspec": {
   "display_name": "Python 3",
   "language": "python",
   "name": "python3"
  },
  "language_info": {
   "codemirror_mode": {
    "name": "ipython",
    "version": 3
   },
   "file_extension": ".py",
   "mimetype": "text/x-python",
   "name": "python",
   "nbconvert_exporter": "python",
   "pygments_lexer": "ipython3",
   "version": "3.5.2"
  }
 },
 "nbformat": 4,
 "nbformat_minor": 1
}
