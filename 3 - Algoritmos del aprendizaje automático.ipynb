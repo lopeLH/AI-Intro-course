{
 "cells": [
  {
   "cell_type": "markdown",
   "metadata": {},
   "source": [
    "# 3. Algoritmos del aprendizaje automático"
   ]
  },
  {
   "cell_type": "markdown",
   "metadata": {},
   "source": [
    "## 3.1 Regresión lineal"
   ]
  },
  {
   "cell_type": "markdown",
   "metadata": {},
   "source": [
    "### 3.1.1 Implementación del algoritmo de Regresión Lineal en Python"
   ]
  },
  {
   "cell_type": "code",
   "execution_count": 1,
   "metadata": {
    "ExecuteTime": {
     "end_time": "2018-09-12T09:08:31.139881Z",
     "start_time": "2018-09-12T09:08:27.672153Z"
    }
   },
   "outputs": [],
   "source": [
    "import numpy as np\n",
    "import matplotlib . pyplot as plt\n",
    "from sklearn import datasets"
   ]
  },
  {
   "cell_type": "code",
   "execution_count": 2,
   "metadata": {
    "ExecuteTime": {
     "end_time": "2018-09-12T09:08:31.150851Z",
     "start_time": "2018-09-12T09:08:31.140879Z"
    }
   },
   "outputs": [],
   "source": [
    "n_samples = 100\n",
    "\n",
    "X, Y = datasets.make_regression( n_samples = n_samples , n_features =1,\n",
    "                                n_informative =1, noise =10)"
   ]
  },
  {
   "cell_type": "code",
   "execution_count": 3,
   "metadata": {
    "ExecuteTime": {
     "end_time": "2018-09-12T09:08:31.167807Z",
     "start_time": "2018-09-12T09:08:31.152847Z"
    }
   },
   "outputs": [
    {
     "data": {
      "text/plain": [
       "0.93071476057161995"
      ]
     },
     "execution_count": 3,
     "metadata": {},
     "output_type": "execute_result"
    }
   ],
   "source": [
    "np.std(X)"
   ]
  },
  {
   "cell_type": "code",
   "execution_count": 4,
   "metadata": {
    "ExecuteTime": {
     "end_time": "2018-09-12T09:08:31.219668Z",
     "start_time": "2018-09-12T09:08:31.213684Z"
    }
   },
   "outputs": [
    {
     "data": {
      "text/plain": [
       "2.1378279922934271"
      ]
     },
     "execution_count": 4,
     "metadata": {},
     "output_type": "execute_result"
    }
   ],
   "source": [
    "np.max(X)"
   ]
  },
  {
   "cell_type": "code",
   "execution_count": 5,
   "metadata": {
    "ExecuteTime": {
     "end_time": "2018-09-12T09:08:32.794458Z",
     "start_time": "2018-09-12T09:08:32.790468Z"
    }
   },
   "outputs": [],
   "source": [
    "X = np. concatenate ([X, np. ones (( n_samples ,1))], axis =1)"
   ]
  },
  {
   "cell_type": "code",
   "execution_count": 6,
   "metadata": {
    "ExecuteTime": {
     "end_time": "2018-09-12T09:08:33.634212Z",
     "start_time": "2018-09-12T09:08:33.561407Z"
    }
   },
   "outputs": [],
   "source": [
    "temp = np. linalg . inv(np.dot(X.T, X))\n",
    "w = np.dot(np.dot(temp ,X.T),Y)"
   ]
  },
  {
   "cell_type": "markdown",
   "metadata": {},
   "source": [
    "En lugar de calcular la inversa de $X^TX$ podemos resolver la ecuación $X^TX w = X^T Y$ mediante la función np.linalg.lstsq(),que es más numericamente estable que calcular una inversa."
   ]
  },
  {
   "cell_type": "code",
   "execution_count": 7,
   "metadata": {
    "ExecuteTime": {
     "end_time": "2018-09-12T09:08:35.273829Z",
     "start_time": "2018-09-12T09:08:35.249893Z"
    }
   },
   "outputs": [],
   "source": [
    "w,_,_,_ = np.linalg.lstsq(np.dot(X.T, X), np.dot(X.T, Y))"
   ]
  },
  {
   "cell_type": "code",
   "execution_count": 8,
   "metadata": {
    "ExecuteTime": {
     "end_time": "2018-09-12T09:08:36.470629Z",
     "start_time": "2018-09-12T09:08:36.283130Z"
    }
   },
   "outputs": [
    {
     "data": {
      "image/png": "[encoded data removed]",
      "text/plain": [
       "<Figure size 432x288 with 1 Axes>"
      ]
     },
     "metadata": {},
     "output_type": "display_data"
    }
   ],
   "source": [
    "%matplotlib inline \n",
    "plt.scatter (X[:,0],Y)\n",
    "\n",
    "ys = np.array ([w[0]*x+w[1] for x in range (-3,4,1)])\n",
    "plt.plot ( range (-3,4,1), ys , c=\"r\")\n",
    "\n",
    "plt.show()"
   ]
  },
  {
   "cell_type": "markdown",
   "metadata": {},
   "source": [
    "### 3.1.2 Regresión lineal en Scikit-learn"
   ]
  },
  {
   "cell_type": "code",
   "execution_count": 9,
   "metadata": {
    "ExecuteTime": {
     "end_time": "2018-09-12T09:08:38.981913Z",
     "start_time": "2018-09-12T09:08:38.177067Z"
    }
   },
   "outputs": [],
   "source": [
    "from sklearn . linear_model import LinearRegression\n",
    "from sklearn import datasets\n",
    "n_samples = 500\n",
    "X, Y = datasets . make_regression ( n_samples = n_samples , n_features =3,\n",
    "n_informative =2, noise =10)"
   ]
  },
  {
   "cell_type": "code",
   "execution_count": 10,
   "metadata": {
    "ExecuteTime": {
     "end_time": "2018-09-12T09:08:39.106581Z",
     "start_time": "2018-09-12T09:08:39.101593Z"
    }
   },
   "outputs": [],
   "source": [
    "from sklearn . model_selection import train_test_split\n",
    "X_train , X_test , Y_train , Y_test = train_test_split (X,Y, train_size =0.7)"
   ]
  },
  {
   "cell_type": "code",
   "execution_count": 11,
   "metadata": {
    "ExecuteTime": {
     "end_time": "2018-09-12T09:08:39.931375Z",
     "start_time": "2018-09-12T09:08:39.911429Z"
    }
   },
   "outputs": [],
   "source": [
    "lr = LinearRegression ().fit( X_train , Y_train )"
   ]
  },
  {
   "cell_type": "code",
   "execution_count": 12,
   "metadata": {
    "ExecuteTime": {
     "end_time": "2018-09-12T09:08:41.160090Z",
     "start_time": "2018-09-12T09:08:41.154106Z"
    }
   },
   "outputs": [
    {
     "data": {
      "text/plain": [
       "array([ 66.09847805])"
      ]
     },
     "execution_count": 12,
     "metadata": {},
     "output_type": "execute_result"
    }
   ],
   "source": [
    "lr. predict ([[0.3, 1, 2]]) # Imprime [57.322]"
   ]
  },
  {
   "cell_type": "code",
   "execution_count": 13,
   "metadata": {
    "ExecuteTime": {
     "end_time": "2018-09-12T09:08:51.242134Z",
     "start_time": "2018-09-12T09:08:51.234156Z"
    }
   },
   "outputs": [
    {
     "name": "stdout",
     "output_type": "stream",
     "text": [
      "88.6629973209\n",
      "96.6288481517\n"
     ]
    }
   ],
   "source": [
    "print( np.mean (( lr.predict ( X_train ) - Y_train ) ** 2)) # Imprime 108.32\n",
    "print( np.mean (( lr.predict ( X_test ) - Y_test ) ** 2)) # Imprime 116.25\n"
   ]
  },
  {
   "cell_type": "markdown",
   "metadata": {},
   "source": [
    "## 3.2 k-Vecinos más cercanos"
   ]
  },
  {
   "cell_type": "markdown",
   "metadata": {},
   "source": [
    "### 3.2.1 k-Vecinos más cercanos en Scikit-Learn"
   ]
  },
  {
   "cell_type": "code",
   "execution_count": 14,
   "metadata": {
    "ExecuteTime": {
     "end_time": "2018-09-12T09:08:55.157666Z",
     "start_time": "2018-09-12T09:08:55.137719Z"
    }
   },
   "outputs": [],
   "source": [
    "from sklearn.datasets import load_iris\n",
    "\n",
    "data = load_iris ()\n",
    "Y = data [\"target\"]\n",
    "X = data [\"data\"]"
   ]
  },
  {
   "cell_type": "code",
   "execution_count": 15,
   "metadata": {
    "ExecuteTime": {
     "end_time": "2018-09-12T09:08:56.178938Z",
     "start_time": "2018-09-12T09:08:56.173949Z"
    }
   },
   "outputs": [],
   "source": [
    "from sklearn.model_selection import train_test_split\n",
    "\n",
    "X_train , X_test , Y_train , Y_test = train_test_split (X,Y)"
   ]
  },
  {
   "cell_type": "code",
   "execution_count": 16,
   "metadata": {
    "ExecuteTime": {
     "end_time": "2018-09-12T09:08:57.418620Z",
     "start_time": "2018-09-12T09:08:57.357783Z"
    }
   },
   "outputs": [
    {
     "data": {
      "text/plain": [
       "KNeighborsClassifier(algorithm='auto', leaf_size=30, metric='euclidean',\n",
       "           metric_params=None, n_jobs=1, n_neighbors=3, p=2,\n",
       "           weights='uniform')"
      ]
     },
     "execution_count": 16,
     "metadata": {},
     "output_type": "execute_result"
    }
   ],
   "source": [
    "from sklearn.neighbors import KNeighborsClassifier\n",
    "knn = KNeighborsClassifier ( n_neighbors =3, metric =\"euclidean\")\n",
    "knn .fit( X_train , Y_train )"
   ]
  },
  {
   "cell_type": "code",
   "execution_count": 17,
   "metadata": {
    "ExecuteTime": {
     "end_time": "2018-09-12T09:09:03.491383Z",
     "start_time": "2018-09-12T09:09:03.484402Z"
    }
   },
   "outputs": [
    {
     "name": "stdout",
     "output_type": "stream",
     "text": [
      "[1]\n"
     ]
    }
   ],
   "source": [
    "print (knn. predict ([[ 5.5, 2.4, 3.8, 1.1]])) # imprime [1]"
   ]
  },
  {
   "cell_type": "code",
   "execution_count": 18,
   "metadata": {
    "ExecuteTime": {
     "end_time": "2018-09-12T09:09:11.164867Z",
     "start_time": "2018-09-12T09:09:11.157886Z"
    }
   },
   "outputs": [
    {
     "name": "stdout",
     "output_type": "stream",
     "text": [
      "0.947368421053\n"
     ]
    }
   ],
   "source": [
    "print (knn. score (X_test , Y_test )) # imprime 0. 97368"
   ]
  },
  {
   "cell_type": "markdown",
   "metadata": {},
   "source": [
    "## 3.3 Máquinas de Soporte Vectorial"
   ]
  },
  {
   "cell_type": "markdown",
   "metadata": {},
   "source": [
    "### 3.3.2 Máquinas de Soporte Vectorial en Scikit-Learn"
   ]
  },
  {
   "cell_type": "code",
   "execution_count": 19,
   "metadata": {
    "ExecuteTime": {
     "end_time": "2018-09-12T09:09:14.644564Z",
     "start_time": "2018-09-12T09:09:14.531867Z"
    }
   },
   "outputs": [],
   "source": [
    "from sklearn.datasets import load_digits\n",
    "\n",
    "data = load_digits ()\n",
    "Y = data [\"target\"]\n",
    "X = data [\"data\"]"
   ]
  },
  {
   "cell_type": "code",
   "execution_count": 20,
   "metadata": {
    "ExecuteTime": {
     "end_time": "2018-09-12T09:09:15.734649Z",
     "start_time": "2018-09-12T09:09:15.728666Z"
    }
   },
   "outputs": [],
   "source": [
    "from sklearn.model_selection import train_test_split\n",
    "X_train , X_test , Y_train , Y_test = train_test_split (X,Y)"
   ]
  },
  {
   "cell_type": "code",
   "execution_count": 21,
   "metadata": {
    "ExecuteTime": {
     "end_time": "2018-09-12T09:09:16.985305Z",
     "start_time": "2018-09-12T09:09:16.813764Z"
    }
   },
   "outputs": [
    {
     "data": {
      "text/plain": [
       "LinearSVC(C=1.0, class_weight=None, dual=True, fit_intercept=True,\n",
       "     intercept_scaling=1, loss='squared_hinge', max_iter=1000,\n",
       "     multi_class='ovr', penalty='l2', random_state=None, tol=0.0001,\n",
       "     verbose=0)"
      ]
     },
     "execution_count": 21,
     "metadata": {},
     "output_type": "execute_result"
    }
   ],
   "source": [
    "from sklearn .svm import SVC , LinearSVC\n",
    "\n",
    "svmPoly = SVC( kernel =\"poly\", degree =2, coef0 =0)\n",
    "svmPoly.fit( X_train , Y_train )\n",
    "\n",
    "lsvm = LinearSVC ()\n",
    "lsvm.fit( X_train , Y_train )"
   ]
  },
  {
   "cell_type": "code",
   "execution_count": 22,
   "metadata": {
    "ExecuteTime": {
     "end_time": "2018-09-12T09:09:25.089638Z",
     "start_time": "2018-09-12T09:09:25.083654Z"
    }
   },
   "outputs": [
    {
     "name": "stdout",
     "output_type": "stream",
     "text": [
      "[8]\n",
      "[8]\n"
     ]
    }
   ],
   "source": [
    "print (svmPoly.predict ( [X_test [0]]) )\n",
    "print (lsvm.predict ( [X_test [0]]) )"
   ]
  },
  {
   "cell_type": "code",
   "execution_count": 23,
   "metadata": {
    "ExecuteTime": {
     "end_time": "2018-09-12T09:09:38.383856Z",
     "start_time": "2018-09-12T09:09:37.741203Z"
    }
   },
   "outputs": [
    {
     "name": "stdout",
     "output_type": "stream",
     "text": [
      "0.988888888889\n",
      "0.951111111111\n"
     ]
    }
   ],
   "source": [
    "print (svmPoly.score (X_test , Y_test )) # Imprime 0. 9844\n",
    "print (lsvm.score (X_test , Y_test )) # Imprime 0.94"
   ]
  },
  {
   "cell_type": "markdown",
   "metadata": {},
   "source": [
    "## 3.4 Análisis de Componentes Principales (PCA)"
   ]
  },
  {
   "cell_type": "markdown",
   "metadata": {},
   "source": [
    "### 3.4.1 Implementación del Análisis de Componentes Principales en Python"
   ]
  },
  {
   "cell_type": "code",
   "execution_count": 24,
   "metadata": {
    "ExecuteTime": {
     "end_time": "2018-09-12T09:09:40.926684Z",
     "start_time": "2018-09-12T09:09:40.916712Z"
    }
   },
   "outputs": [],
   "source": [
    "import numpy as np\n",
    "import matplotlib.pyplot as plt\n",
    "from sklearn.datasets import load_iris\n",
    "data = load_iris ()\n",
    "X = data [\"data\"]\n",
    "Y = data [\"target\"]"
   ]
  },
  {
   "cell_type": "markdown",
   "metadata": {},
   "source": [
    "Se centran los datos restando a cada característica su media"
   ]
  },
  {
   "cell_type": "code",
   "execution_count": 25,
   "metadata": {
    "ExecuteTime": {
     "end_time": "2018-09-12T09:09:42.662046Z",
     "start_time": "2018-09-12T09:09:42.657058Z"
    }
   },
   "outputs": [],
   "source": [
    "X = X-np. mean (X, axis =0) "
   ]
  },
  {
   "cell_type": "code",
   "execution_count": 26,
   "metadata": {
    "ExecuteTime": {
     "end_time": "2018-09-12T09:09:43.315297Z",
     "start_time": "2018-09-12T09:09:43.311308Z"
    }
   },
   "outputs": [],
   "source": [
    "k = 2\n",
    "n = float (X. shape [0])"
   ]
  },
  {
   "cell_type": "markdown",
   "metadata": {},
   "source": [
    "Pasos 1 y 2, se calculan la media y la matriz de covarianza:\n",
    "\n",
    "$\\Sigma = \\frac{1}{n-1}{}(X-\\mu)^\\top(X-\\mu)$"
   ]
  },
  {
   "cell_type": "code",
   "execution_count": 27,
   "metadata": {
    "ExecuteTime": {
     "end_time": "2018-09-12T09:09:45.119474Z",
     "start_time": "2018-09-12T09:09:45.111498Z"
    }
   },
   "outputs": [],
   "source": [
    "mu = np.mean (X, axis =0)\n",
    "cov = np.dot ((X-mu).T ,(X-mu))/(n-1)"
   ]
  },
  {
   "cell_type": "markdown",
   "metadata": {},
   "source": [
    "Alternativamente, podemos usar la función de numpy para el cálculo de la matriz de covarianza."
   ]
  },
  {
   "cell_type": "code",
   "execution_count": 28,
   "metadata": {
    "ExecuteTime": {
     "end_time": "2018-09-12T09:09:46.427976Z",
     "start_time": "2018-09-12T09:09:46.422990Z"
    }
   },
   "outputs": [],
   "source": [
    "cov = np.cov(X.T)"
   ]
  },
  {
   "cell_type": "markdown",
   "metadata": {},
   "source": [
    "Paso 3, Calculamos los eigenvectores y sus eigenvalores asociados"
   ]
  },
  {
   "cell_type": "code",
   "execution_count": 29,
   "metadata": {
    "ExecuteTime": {
     "end_time": "2018-09-12T09:09:47.491133Z",
     "start_time": "2018-09-12T09:09:47.479166Z"
    }
   },
   "outputs": [],
   "source": [
    "evals , evects = np.linalg.eig(cov )"
   ]
  },
  {
   "cell_type": "markdown",
   "metadata": {},
   "source": [
    "Paso 4, ordenamos los eigenvectores por eigenvalor descendiente y formamos la matriz de proyección con los eigenvectores de mayor eigenvalor como columnas."
   ]
  },
  {
   "cell_type": "code",
   "execution_count": 30,
   "metadata": {
    "ExecuteTime": {
     "end_time": "2018-09-12T09:09:48.974167Z",
     "start_time": "2018-09-12T09:09:48.622110Z"
    }
   },
   "outputs": [],
   "source": [
    "indices = np.argsort ( evals )[::-1]"
   ]
  },
  {
   "cell_type": "code",
   "execution_count": 31,
   "metadata": {
    "ExecuteTime": {
     "end_time": "2018-09-12T09:09:49.045976Z",
     "start_time": "2018-09-12T09:09:49.040990Z"
    }
   },
   "outputs": [],
   "source": [
    "evals = evals [ indices ]\n",
    "evects = evects.T[ indices ]"
   ]
  },
  {
   "cell_type": "code",
   "execution_count": 32,
   "metadata": {
    "ExecuteTime": {
     "end_time": "2018-09-12T09:09:54.814554Z",
     "start_time": "2018-09-12T09:09:54.807572Z"
    }
   },
   "outputs": [
    {
     "name": "stdout",
     "output_type": "stream",
     "text": [
      "(4, 2)\n"
     ]
    }
   ],
   "source": [
    "W = np.concatenate ([ evects [i]. reshape (-1,1) for i in range (k)], axis =1)\n",
    "print (W.shape) # Imprime (4,2)"
   ]
  },
  {
   "cell_type": "markdown",
   "metadata": {},
   "source": [
    "Proyectamos el conjunto de datos y lo visualizamos en 2D"
   ]
  },
  {
   "cell_type": "code",
   "execution_count": 33,
   "metadata": {
    "ExecuteTime": {
     "end_time": "2018-09-12T09:10:00.436522Z",
     "start_time": "2018-09-12T09:10:00.430538Z"
    }
   },
   "outputs": [
    {
     "name": "stdout",
     "output_type": "stream",
     "text": [
      "(150, 2)\n"
     ]
    }
   ],
   "source": [
    "Xpca = np.dot (X,W)\n",
    "print (Xpca.shape) # Imprime (150 ,2)"
   ]
  },
  {
   "cell_type": "code",
   "execution_count": 34,
   "metadata": {
    "ExecuteTime": {
     "end_time": "2018-09-12T09:10:01.648281Z",
     "start_time": "2018-09-12T09:10:01.548548Z"
    }
   },
   "outputs": [
    {
     "data": {
      "image/png": "[encoded data removed]",
      "text/plain": [
       "<Figure size 432x288 with 1 Axes>"
      ]
     },
     "metadata": {},
     "output_type": "display_data"
    }
   ],
   "source": [
    "plt.scatter ( Xpca [:,0],Xpca [:,1], c=Y)\n",
    "plt.show ()"
   ]
  },
  {
   "cell_type": "markdown",
   "metadata": {},
   "source": [
    "### 3.4.2 Análisis de Componentes Principales en Scikit-Learn"
   ]
  },
  {
   "cell_type": "code",
   "execution_count": 35,
   "metadata": {
    "ExecuteTime": {
     "end_time": "2018-09-12T09:10:04.863685Z",
     "start_time": "2018-09-12T09:10:04.468742Z"
    }
   },
   "outputs": [],
   "source": [
    "from sklearn.decomposition import PCA\n",
    "from sklearn.datasets import load_iris\n",
    "\n",
    "import numpy as np\n",
    "\n",
    "data = load_iris ()\n",
    "X = data [\"data\"]\n",
    "Y = data [\"target\"]\n",
    "X = X-np.mean (X, axis =0)"
   ]
  },
  {
   "cell_type": "code",
   "execution_count": 36,
   "metadata": {
    "ExecuteTime": {
     "end_time": "2018-09-12T09:10:05.700447Z",
     "start_time": "2018-09-12T09:10:05.692470Z"
    }
   },
   "outputs": [],
   "source": [
    "pca = PCA( n_components =2)\n",
    "Xpca = pca.fit (X)"
   ]
  },
  {
   "cell_type": "code",
   "execution_count": 37,
   "metadata": {
    "ExecuteTime": {
     "end_time": "2018-09-12T09:10:06.816483Z",
     "start_time": "2018-09-12T09:10:06.812501Z"
    }
   },
   "outputs": [],
   "source": [
    "Xpca = pca.transform (X)"
   ]
  },
  {
   "cell_type": "code",
   "execution_count": 38,
   "metadata": {
    "ExecuteTime": {
     "end_time": "2018-09-12T09:10:11.373281Z",
     "start_time": "2018-09-12T09:10:11.252603Z"
    }
   },
   "outputs": [
    {
     "data": {
      "image/png": "[encoded data removed]",
      "text/plain": [
       "<Figure size 432x288 with 1 Axes>"
      ]
     },
     "metadata": {},
     "output_type": "display_data"
    }
   ],
   "source": [
    "plt.scatter ( Xpca [:,0],Xpca [:,1], c=Y)\n",
    "plt.show()"
   ]
  },
  {
   "cell_type": "code",
   "execution_count": null,
   "metadata": {},
   "outputs": [],
   "source": []
  }
 ],
 "metadata": {
  "kernelspec": {
   "display_name": "Python 3",
   "language": "python",
   "name": "python3"
  },
  "language_info": {
   "codemirror_mode": {
    "name": "ipython",
    "version": 3
   },
   "file_extension": ".py",
   "mimetype": "text/x-python",
   "name": "python",
   "nbconvert_exporter": "python",
   "pygments_lexer": "ipython3",
   "version": "3.5.2"
  }
 },
 "nbformat": 4,
 "nbformat_minor": 1
}
