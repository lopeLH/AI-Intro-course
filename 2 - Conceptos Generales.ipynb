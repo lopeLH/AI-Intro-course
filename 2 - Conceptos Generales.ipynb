{
 "cells": [
  {
   "cell_type": "markdown",
   "metadata": {},
   "source": [
    "# 2. Conceptos Generales"
   ]
  },
  {
   "cell_type": "markdown",
   "metadata": {},
   "source": [
    "## 2.1 Programació para la IA"
   ]
  },
  {
   "cell_type": "markdown",
   "metadata": {},
   "source": [
    "### 2.1.1 El lenguaje de programación Python"
   ]
  },
  {
   "cell_type": "markdown",
   "metadata": {},
   "source": [
    "#### Tipos y operaciones aritméticas"
   ]
  },
  {
   "cell_type": "code",
   "execution_count": 1,
   "metadata": {
    "ExecuteTime": {
     "end_time": "2018-09-12T08:53:37.866238Z",
     "start_time": "2018-09-12T08:53:37.857263Z"
    }
   },
   "outputs": [
    {
     "name": "stdout",
     "output_type": "stream",
     "text": [
      " Hola mundo !\n"
     ]
    }
   ],
   "source": [
    "mensaje = \" Hola mundo !\"\n",
    "print(mensaje)"
   ]
  },
  {
   "cell_type": "code",
   "execution_count": 2,
   "metadata": {
    "ExecuteTime": {
     "end_time": "2018-09-12T08:53:54.608475Z",
     "start_time": "2018-09-12T08:53:54.602492Z"
    }
   },
   "outputs": [
    {
     "name": "stdout",
     "output_type": "stream",
     "text": [
      "1.72\n",
      "1\n"
     ]
    }
   ],
   "source": [
    "x = 1.72\n",
    "y = int(x)\n",
    "print(x) # Imprime 1.72\n",
    "print(y) # Imprime 1"
   ]
  },
  {
   "cell_type": "code",
   "execution_count": 3,
   "metadata": {
    "ExecuteTime": {
     "end_time": "2018-09-12T08:54:22.059186Z",
     "start_time": "2018-09-12T08:54:22.048214Z"
    }
   },
   "outputs": [
    {
     "name": "stdout",
     "output_type": "stream",
     "text": [
      "3.5\n",
      "-0.5\n",
      "3.5\n",
      "1\n",
      "3.0\n",
      "4\n"
     ]
    }
   ],
   "source": [
    "x = 1.5\n",
    "y = 2\n",
    "z = 7\n",
    "print (x+y) # suma : 3.5\n",
    "print (x-y) # suma : -0.5\n",
    "print (z/y) # division : 3\n",
    "print (z%y) # resto division entera : 1\n",
    "print (x*y) # multiplicacion : 3\n",
    "print (y ** 2) # exponenciacion : 4"
   ]
  },
  {
   "cell_type": "code",
   "execution_count": 4,
   "metadata": {
    "ExecuteTime": {
     "end_time": "2018-09-12T08:54:28.084079Z",
     "start_time": "2018-09-12T08:54:28.072109Z"
    }
   },
   "outputs": [
    {
     "data": {
      "text/plain": [
       "3.5"
      ]
     },
     "execution_count": 4,
     "metadata": {},
     "output_type": "execute_result"
    }
   ],
   "source": [
    "y = 2\n",
    "z = 7\n",
    "float (z)/y # division : 3.5"
   ]
  },
  {
   "cell_type": "markdown",
   "metadata": {},
   "source": [
    "#### Estructuras de datos: listas"
   ]
  },
  {
   "cell_type": "code",
   "execution_count": 5,
   "metadata": {
    "ExecuteTime": {
     "end_time": "2018-09-12T08:54:53.918006Z",
     "start_time": "2018-09-12T08:54:53.909031Z"
    }
   },
   "outputs": [
    {
     "name": "stdout",
     "output_type": "stream",
     "text": [
      "1\n",
      " cuatro \n",
      "5.1\n",
      "[1, 2, ' tres ']\n",
      "[2, ' tres ', ' cuatro ', 5.1]\n"
     ]
    }
   ],
   "source": [
    "lista = [1,2,\" tres \", \" cuatro \", 5.1]\n",
    "print (lista [0]) # Imprime 1\n",
    "print (lista [3]) # Imprime cuatro\n",
    "print (lista [-1]) # Imprime 5.1\n",
    "print (lista [0:3]) # Imprime [1, 2, ’tres ’]\n",
    "print (lista [1:]) # Imprime [2, ’tres ’, ’cuatro ’, 5.1]"
   ]
  },
  {
   "cell_type": "markdown",
   "metadata": {},
   "source": [
    "#### Sentencias condicionales"
   ]
  },
  {
   "cell_type": "code",
   "execution_count": 6,
   "metadata": {
    "ExecuteTime": {
     "end_time": "2018-09-12T08:55:08.413251Z",
     "start_time": "2018-09-12T08:55:08.406269Z"
    }
   },
   "outputs": [
    {
     "name": "stdout",
     "output_type": "stream",
     "text": [
      "x es menor que 3\n"
     ]
    }
   ],
   "source": [
    "x = 2.3\n",
    "if x<3:\n",
    "    print (\"x es menor que 3\")\n",
    "else :\n",
    "    print (\"x es mayor que o igual que 3\")"
   ]
  },
  {
   "cell_type": "code",
   "execution_count": 7,
   "metadata": {
    "ExecuteTime": {
     "end_time": "2018-09-12T08:55:35.633578Z",
     "start_time": "2018-09-12T08:55:35.626598Z"
    }
   },
   "outputs": [
    {
     "name": "stdout",
     "output_type": "stream",
     "text": [
      " Pedir otra cosa \n"
     ]
    }
   ],
   "source": [
    "platosEnCarta = [\" pizza barbacoa \", \" macarrones con tomate \", \" helados \"]\n",
    "precioPizza = 12.5\n",
    "\n",
    "if \" pizza hawaiana \" in platosEnCarta and precioPizza < 11 :\n",
    "    print (\" Pedir pizza hawaiana \")\n",
    "else :\n",
    "    print (\" Pedir otra cosa \")"
   ]
  },
  {
   "cell_type": "markdown",
   "metadata": {},
   "source": [
    "#### Sentencias de control iterativas"
   ]
  },
  {
   "cell_type": "code",
   "execution_count": 8,
   "metadata": {
    "ExecuteTime": {
     "end_time": "2018-09-12T08:55:47.317340Z",
     "start_time": "2018-09-12T08:55:47.310359Z"
    }
   },
   "outputs": [
    {
     "name": "stdout",
     "output_type": "stream",
     "text": [
      " Salta !\n",
      " Salta !\n",
      " Salta !\n",
      " Salta !\n",
      " Salta !\n"
     ]
    }
   ],
   "source": [
    "saltos = 0\n",
    "\n",
    "while saltos < 5:\n",
    "    saltos = saltos + 1\n",
    "    print( \" Salta !\")"
   ]
  },
  {
   "cell_type": "code",
   "execution_count": 9,
   "metadata": {},
   "outputs": [
    {
     "ename": "SyntaxError",
     "evalue": "Missing parentheses in call to 'print' (<ipython-input-9-483c416e6e8b>, line 4)",
     "output_type": "error",
     "traceback": [
      "\u001b[0;36m  File \u001b[0;32m\"<ipython-input-9-483c416e6e8b>\"\u001b[0;36m, line \u001b[0;32m4\u001b[0m\n\u001b[0;31m    print \"Hoy es \"+dia\u001b[0m\n\u001b[0m                  ^\u001b[0m\n\u001b[0;31mSyntaxError\u001b[0m\u001b[0;31m:\u001b[0m Missing parentheses in call to 'print'\n"
     ]
    }
   ],
   "source": [
    "diasLaborables = [\" Lunes \", \" Martes \", \" Miercoles \", \" Jueves \", \" Viernes \"]\n",
    "\n",
    "for dia in diasLaborables :\n",
    "    print \"Hoy es \"+dia"
   ]
  },
  {
   "cell_type": "code",
   "execution_count": 10,
   "metadata": {
    "ExecuteTime": {
     "end_time": "2018-09-12T08:56:10.541247Z",
     "start_time": "2018-09-12T08:56:10.535263Z"
    }
   },
   "outputs": [
    {
     "name": "stdout",
     "output_type": "stream",
     "text": [
      "[1, 2, 3, 4, 5]\n"
     ]
    }
   ],
   "source": [
    "l1 = [1,2,3]\n",
    "l2 = [4,5]\n",
    "print (l1+l2) # Imprime [1, 2, 3, 4, 5]"
   ]
  },
  {
   "cell_type": "code",
   "execution_count": 11,
   "metadata": {
    "ExecuteTime": {
     "end_time": "2018-09-12T08:56:11.263317Z",
     "start_time": "2018-09-12T08:56:11.256335Z"
    }
   },
   "outputs": [
    {
     "name": "stdout",
     "output_type": "stream",
     "text": [
      "Hoy es  Lunes , que esta en la posicion 0\n",
      "Hoy es  Martes , que esta en la posicion 1\n",
      "Hoy es  Miercoles , que esta en la posicion 2\n",
      "Hoy es  Jueves , que esta en la posicion 3\n",
      "Hoy es  Viernes , que esta en la posicion 4\n"
     ]
    }
   ],
   "source": [
    "diasLaborables = [\" Lunes \", \" Martes \", \" Miercoles \", \" Jueves \", \" Viernes \"]\n",
    "\n",
    "for i in range (len ( diasLaborables )):\n",
    "    print (\"Hoy es \"+ diasLaborables [i]+\", que esta en la posicion \"+str(i))"
   ]
  },
  {
   "cell_type": "markdown",
   "metadata": {},
   "source": [
    "#### Funciones definidas por el usuario"
   ]
  },
  {
   "cell_type": "code",
   "execution_count": 12,
   "metadata": {
    "ExecuteTime": {
     "end_time": "2018-09-12T08:56:18.731351Z",
     "start_time": "2018-09-12T08:56:18.724369Z"
    }
   },
   "outputs": [
    {
     "name": "stdout",
     "output_type": "stream",
     "text": [
      " Hola  Anna !\n"
     ]
    }
   ],
   "source": [
    "def saludo ( nombre ):\n",
    "    print (\" Hola \"+ nombre +\"!\")\n",
    "\n",
    "saludo (\" Anna \")"
   ]
  },
  {
   "cell_type": "code",
   "execution_count": 13,
   "metadata": {
    "ExecuteTime": {
     "end_time": "2018-09-12T08:56:28.123239Z",
     "start_time": "2018-09-12T08:56:28.115262Z"
    }
   },
   "outputs": [
    {
     "name": "stdout",
     "output_type": "stream",
     "text": [
      "13\n"
     ]
    }
   ],
   "source": [
    "def sumarCuadrados (x,y):\n",
    "    x2 = x ** 2\n",
    "    y2 = y ** 2\n",
    "    return x2+y2\n",
    "\n",
    "resultado = sumarCuadrados (2,3)\n",
    "print (resultado)"
   ]
  },
  {
   "cell_type": "code",
   "execution_count": 14,
   "metadata": {
    "ExecuteTime": {
     "end_time": "2018-09-12T08:56:39.083741Z",
     "start_time": "2018-09-12T08:56:39.076758Z"
    }
   },
   "outputs": [
    {
     "name": "stdout",
     "output_type": "stream",
     "text": [
      " Hola  Anna !\n",
      " Hello  Anna !\n"
     ]
    }
   ],
   "source": [
    "def saludo (nombre , idioma =\" Spanish \"):\n",
    "    if idioma == \" Spanish \":\n",
    "        print (\" Hola \"+ nombre +\"!\")\n",
    "    else :\n",
    "        print (\" Hello \"+ nombre +\"!\")\n",
    "        \n",
    "saludo (\" Anna \")\n",
    "saludo (\" Anna \", idioma =\" English \")"
   ]
  },
  {
   "cell_type": "markdown",
   "metadata": {},
   "source": [
    "#### Importar módulos y librerías"
   ]
  },
  {
   "cell_type": "code",
   "execution_count": 15,
   "metadata": {
    "ExecuteTime": {
     "end_time": "2018-09-12T08:56:53.417007Z",
     "start_time": "2018-09-12T08:56:51.238626Z"
    }
   },
   "outputs": [],
   "source": [
    "import numpy.random\n",
    "import matplotlib.pyplot as plt"
   ]
  },
  {
   "cell_type": "code",
   "execution_count": 16,
   "metadata": {
    "ExecuteTime": {
     "end_time": "2018-09-12T08:56:56.406591Z",
     "start_time": "2018-09-12T08:56:56.402602Z"
    }
   },
   "outputs": [
    {
     "name": "stdout",
     "output_type": "stream",
     "text": [
      "2.2360679775\n"
     ]
    }
   ],
   "source": [
    "import numpy as np\n",
    "print (np.sqrt (5))"
   ]
  },
  {
   "cell_type": "markdown",
   "metadata": {},
   "source": [
    "### 2.1.2 Librerias básicas de computación científica"
   ]
  },
  {
   "cell_type": "markdown",
   "metadata": {},
   "source": [
    "#### Numpy: matrices y álgebra lineal"
   ]
  },
  {
   "cell_type": "code",
   "execution_count": 17,
   "metadata": {
    "ExecuteTime": {
     "end_time": "2018-09-12T08:57:01.174469Z",
     "start_time": "2018-09-12T08:57:01.170502Z"
    }
   },
   "outputs": [],
   "source": [
    "import numpy as np\n",
    "X = np. array ([[ 3., 2., 2.],\n",
    "                [ 2., -1., 1.]])"
   ]
  },
  {
   "cell_type": "code",
   "execution_count": 18,
   "metadata": {
    "ExecuteTime": {
     "end_time": "2018-09-12T08:57:04.807045Z",
     "start_time": "2018-09-12T08:57:04.803056Z"
    }
   },
   "outputs": [
    {
     "name": "stdout",
     "output_type": "stream",
     "text": [
      "(2, 3)\n"
     ]
    }
   ],
   "source": [
    "print (X.shape) # Imprime (2,3)"
   ]
  },
  {
   "cell_type": "code",
   "execution_count": 19,
   "metadata": {
    "ExecuteTime": {
     "end_time": "2018-09-12T08:57:18.307576Z",
     "start_time": "2018-09-12T08:57:18.301592Z"
    }
   },
   "outputs": [
    {
     "name": "stdout",
     "output_type": "stream",
     "text": [
      "2.0\n",
      "[ 3.  2.  2.]\n",
      "[ 3.  2.]\n"
     ]
    }
   ],
   "source": [
    "print (X[0,1]) # Imprime 2.\n",
    "print (X[0]) # Imprime [3., 2., 2.]\n",
    "print (X[0, 0:2]) # Imprime [3., 2.]"
   ]
  },
  {
   "cell_type": "code",
   "execution_count": 20,
   "metadata": {
    "ExecuteTime": {
     "end_time": "2018-09-12T09:02:17.551931Z",
     "start_time": "2018-09-12T09:02:17.545947Z"
    }
   },
   "outputs": [
    {
     "name": "stdout",
     "output_type": "stream",
     "text": [
      "[[ 0.  0.  0.]\n",
      " [ 0.  0.  0.]]\n",
      "[[ 2.3  2.3  2.3]\n",
      " [ 2.3  2.3  2.3]]\n"
     ]
    }
   ],
   "source": [
    "X = np.zeros ((2,3))\n",
    "print (X) # Imprime [[0,0,0],[0,0,0]]\n",
    "\n",
    "X.fill (2.3)\n",
    "print (X) # Imprime [[2.3, 2.3, 2.3],[2.3, 2.3, 2.3]]"
   ]
  },
  {
   "cell_type": "code",
   "execution_count": 21,
   "metadata": {
    "ExecuteTime": {
     "end_time": "2018-09-12T09:03:50.711852Z",
     "start_time": "2018-09-12T09:03:50.699885Z"
    }
   },
   "outputs": [
    {
     "name": "stdout",
     "output_type": "stream",
     "text": [
      "[[2 6]\n",
      " [5 6]]\n",
      "[[1 5]\n",
      " [6 8]]\n",
      "[[ 1 25]\n",
      " [ 9 16]]\n",
      "[[ 0.4  2. ]\n",
      " [ 1.2  1.6]]\n"
     ]
    }
   ],
   "source": [
    "X = np. asarray ([[1,5],[3,4]])\n",
    "Y = np. asarray ([[1,1],[2,2]])\n",
    "\n",
    "print (X+Y) # Imprime [[2, 6], [5, 6]]\n",
    "print (X*Y) # Imprime [[1, 5], [6, 8]]\n",
    "print (X ** 2) # Imprime [[1, 25], [9, 16 ]]\n",
    "print (X/2.5) # Imprime [[0.4, 2.], [1.2, 1.6]]"
   ]
  },
  {
   "cell_type": "code",
   "execution_count": 22,
   "metadata": {
    "ExecuteTime": {
     "end_time": "2018-09-12T09:04:01.965763Z",
     "start_time": "2018-09-12T09:04:01.955791Z"
    }
   },
   "outputs": [
    {
     "name": "stdout",
     "output_type": "stream",
     "text": [
      "[[ 8 13]\n",
      " [ 9  6]]\n",
      "[[2 0 3]\n",
      " [1 2 1]]\n"
     ]
    }
   ],
   "source": [
    "X = np. asarray ([[1,5,2],[3,1,1]])\n",
    "Y = np. asarray ([[2,1],[0,2], [3,1]])\n",
    "\n",
    "print (np.dot(X,Y)) # Imprime [[8,13 ],[9,6]]\n",
    "print (Y.T) # Imprime [[2, 0, 3], [1, 2, 1]]"
   ]
  },
  {
   "cell_type": "code",
   "execution_count": 23,
   "metadata": {
    "ExecuteTime": {
     "end_time": "2018-09-12T09:04:08.257941Z",
     "start_time": "2018-09-12T09:04:08.187129Z"
    }
   },
   "outputs": [
    {
     "name": "stdout",
     "output_type": "stream",
     "text": [
      "[[  1.00000000e+00   5.55111512e-17]\n",
      " [  0.00000000e+00   1.00000000e+00]]\n"
     ]
    }
   ],
   "source": [
    "from numpy.linalg import inv\n",
    "\n",
    "X = np.asarray ([[1,5],[3,1]])\n",
    "Xinv = inv(X)\n",
    "\n",
    "print (np.dot(X, Xinv )) # Imprime la matrix identidad 2x2"
   ]
  },
  {
   "cell_type": "code",
   "execution_count": 24,
   "metadata": {
    "ExecuteTime": {
     "end_time": "2018-09-12T09:04:20.431392Z",
     "start_time": "2018-09-12T09:04:20.422416Z"
    }
   },
   "outputs": [
    {
     "name": "stdout",
     "output_type": "stream",
     "text": [
      "[1 5]\n",
      "[3 1]\n",
      "[1 3]\n",
      "[5 1]\n"
     ]
    }
   ],
   "source": [
    "X = np. asarray ([[1,5],[3,1]])\n",
    "for fila in X:\n",
    "    print (fila)\n",
    "    \n",
    "for columna in X.T:\n",
    "    print (columna)"
   ]
  },
  {
   "cell_type": "markdown",
   "metadata": {},
   "source": [
    "#### Matplotlib: visualización en 2D"
   ]
  },
  {
   "cell_type": "markdown",
   "metadata": {},
   "source": [
    "Los comandos precedidos por un signo %, son directivas para el propio IDE Jupyter. En este caso, estamos diciendo que queremos que las gráficas se incluyan en el propio notebook en vez de generarse en una ventana separada."
   ]
  },
  {
   "cell_type": "code",
   "execution_count": 25,
   "metadata": {
    "ExecuteTime": {
     "end_time": "2018-09-12T09:04:26.960934Z",
     "start_time": "2018-09-12T09:04:26.802359Z"
    }
   },
   "outputs": [
    {
     "data": {
      "image/png": "[encoded data removed]",
      "text/plain": [
       "<Figure size 432x288 with 1 Axes>"
      ]
     },
     "metadata": {},
     "output_type": "display_data"
    }
   ],
   "source": [
    "%matplotlib inline\n",
    "\n",
    "import numpy as np\n",
    "import matplotlib.pyplot as plt\n",
    "\n",
    "X = np.random.normal ( size =(2, 100))\n",
    "plt.scatter (X[0],X[1])\n",
    "plt.show ()"
   ]
  },
  {
   "cell_type": "markdown",
   "metadata": {},
   "source": [
    "### 2.2 Como cargar datos en memoria"
   ]
  },
  {
   "cell_type": "markdown",
   "metadata": {},
   "source": [
    "#### Ficheros de texto tabulados y delimitados"
   ]
  },
  {
   "cell_type": "markdown",
   "metadata": {},
   "source": [
    "Para facilitar la ejecución de estos ejemplos, se incluyen los comandos para la descarga automática de los datasets de los repositorios correspondientes. Para esto, es necesario tener instalada la librería urllib, que puede instalarse ejecutando el comando \"pip install urllib\" en la consola del sistema."
   ]
  },
  {
   "cell_type": "code",
   "execution_count": 26,
   "metadata": {
    "ExecuteTime": {
     "end_time": "2018-09-12T09:05:24.863164Z",
     "start_time": "2018-09-12T09:05:24.173009Z"
    }
   },
   "outputs": [
    {
     "data": {
      "text/plain": [
       "('iris.data', <http.client.HTTPMessage at 0x7f19ec1174a8>)"
      ]
     },
     "execution_count": 26,
     "metadata": {},
     "output_type": "execute_result"
    }
   ],
   "source": [
    "import urllib\n",
    "\n",
    "testfile = urllib.request.URLopener()\n",
    "testfile.retrieve(\"http://archive.ics.uci.edu/ml/machine-learning-databases/iris/iris.data\", \"iris.data\")\n",
    "# Más información sobre este dataset en http://archive.ics.uci.edu/ml/datasets/Iris"
   ]
  },
  {
   "cell_type": "code",
   "execution_count": 35,
   "metadata": {
    "ExecuteTime": {
     "end_time": "2018-09-12T09:05:28.938269Z",
     "start_time": "2018-09-12T09:05:28.928296Z"
    }
   },
   "outputs": [],
   "source": [
    "import numpy as np\n",
    "data = np.loadtxt (\"iris.data\", delimiter =\",\", dtype =bytes).astype(np.str)\n",
    "X = data [:, 0:4].astype (np.float32 )\n",
    "Y = data [:, -1]"
   ]
  },
  {
   "cell_type": "code",
   "execution_count": 36,
   "metadata": {
    "ExecuteTime": {
     "end_time": "2018-09-12T09:05:29.819913Z",
     "start_time": "2018-09-12T09:05:29.812930Z"
    }
   },
   "outputs": [],
   "source": [
    "Y[Y==\"Iris-setosa\"] = 0\n",
    "Y[Y==\"Iris-versicolor\"] = 1\n",
    "Y[Y==\"Iris-virginica\"] = 2\n",
    "Y = Y.astype(np.int)"
   ]
  },
  {
   "cell_type": "code",
   "execution_count": 63,
   "metadata": {},
   "outputs": [
    {
     "data": {
      "image/png": "[encoded data removed]",
      "text/plain": [
       "<IPython.core.display.Image object>"
      ]
     },
     "execution_count": 63,
     "metadata": {
      "image/png": {
       "width": 500
      }
     },
     "output_type": "execute_result"
    }
   ],
   "source": []
  },
  {
   "cell_type": "code",
   "execution_count": 28,
   "metadata": {
    "ExecuteTime": {
     "end_time": "2018-09-12T09:05:39.046243Z",
     "start_time": "2018-09-12T09:05:39.041256Z"
    }
   },
   "outputs": [
    {
     "name": "stdout",
     "output_type": "stream",
     "text": [
      "(2, 100)\n",
      "(3, 2)\n"
     ]
    }
   ],
   "source": [
    "print( X.shape)\n",
    "print( Y.shape)"
   ]
  },
  {
   "cell_type": "markdown",
   "metadata": {},
   "source": [
    "#### Datasets propios de Scikit-learn"
   ]
  },
  {
   "cell_type": "code",
   "execution_count": 29,
   "metadata": {
    "ExecuteTime": {
     "end_time": "2018-09-12T09:05:48.754048Z",
     "start_time": "2018-09-12T09:05:45.868763Z"
    }
   },
   "outputs": [],
   "source": [
    "from sklearn . datasets import load_iris\n",
    "data = load_iris ()"
   ]
  },
  {
   "cell_type": "code",
   "execution_count": 30,
   "metadata": {
    "ExecuteTime": {
     "end_time": "2018-09-12T09:05:53.454479Z",
     "start_time": "2018-09-12T09:05:53.446501Z"
    }
   },
   "outputs": [
    {
     "name": "stdout",
     "output_type": "stream",
     "text": [
      "['setosa' 'versicolor' 'virginica']\n"
     ]
    }
   ],
   "source": [
    "X = data [\"data\"]\n",
    "Y = data [\"target\"]\n",
    "print( data [\"target_names\"]) # Imprime [’ setosa ’ ’versicolor ’ ’virginica ’]"
   ]
  },
  {
   "cell_type": "markdown",
   "metadata": {},
   "source": [
    "#### Ficheros en formato Libsvm"
   ]
  },
  {
   "cell_type": "code",
   "execution_count": 31,
   "metadata": {
    "ExecuteTime": {
     "end_time": "2018-09-12T09:06:20.360543Z",
     "start_time": "2018-09-12T09:06:05.448412Z"
    }
   },
   "outputs": [
    {
     "data": {
      "text/plain": [
       "('usps.bz2', <http.client.HTTPMessage at 0x7f19d83c5a90>)"
      ]
     },
     "execution_count": 31,
     "metadata": {},
     "output_type": "execute_result"
    }
   ],
   "source": [
    "import urllib\n",
    "\n",
    "testfile = urllib.request.URLopener()\n",
    "testfile.retrieve(\"https://www.csie.ntu.edu.tw/~cjlin/libsvmtools/datasets/multiclass/usps.bz2\", \"usps.bz2\")\n",
    "#https://www.csie.ntu.edu.tw/~cjlin/libsvmtools/datasets/multiclass.html#usps"
   ]
  },
  {
   "cell_type": "markdown",
   "metadata": {},
   "source": [
    "Antes de continuar con los siguientes comandos, es necesario descomprimir manualmente el fichero \"usps.bz2\""
   ]
  },
  {
   "cell_type": "code",
   "execution_count": 32,
   "metadata": {
    "ExecuteTime": {
     "end_time": "2018-09-12T09:07:23.328187Z",
     "start_time": "2018-09-12T09:07:22.009712Z"
    }
   },
   "outputs": [
    {
     "name": "stdout",
     "output_type": "stream",
     "text": [
      "(7291, 256)\n",
      "(7291,)\n"
     ]
    }
   ],
   "source": [
    "from sklearn . datasets import load_svmlight_file\n",
    "\n",
    "#Antes de ejecutar, recordar descomprimir usps.bz2\n",
    "\n",
    "X,Y = load_svmlight_file (\"usps\")\n",
    "print (X.shape) # Imprime (7291 , 256)\n",
    "print (Y.shape) # Imprime (7291 ,)"
   ]
  },
  {
   "cell_type": "code",
   "execution_count": 33,
   "metadata": {
    "ExecuteTime": {
     "end_time": "2018-09-12T09:07:35.406893Z",
     "start_time": "2018-09-12T09:07:35.400908Z"
    }
   },
   "outputs": [
    {
     "name": "stdout",
     "output_type": "stream",
     "text": [
      "<class 'scipy.sparse.csr.csr_matrix'>\n"
     ]
    }
   ],
   "source": [
    "print (type (X)) # Imprime <class ’scipy . sparse . csr. csr_matrix ’>"
   ]
  },
  {
   "cell_type": "code",
   "execution_count": 34,
   "metadata": {
    "ExecuteTime": {
     "end_time": "2018-09-12T09:07:33.546866Z",
     "start_time": "2018-09-12T09:07:33.540882Z"
    }
   },
   "outputs": [
    {
     "name": "stdout",
     "output_type": "stream",
     "text": [
      "<class 'numpy.ndarray'>\n"
     ]
    }
   ],
   "source": [
    "X = np.asarray (X)\n",
    "print (type (X)) # Imprime <type ’numpy . ndarray ’>"
   ]
  }
 ],
 "metadata": {
  "kernelspec": {
   "display_name": "Python 3",
   "language": "python",
   "name": "python3"
  },
  "language_info": {
   "codemirror_mode": {
    "name": "ipython",
    "version": 3
   },
   "file_extension": ".py",
   "mimetype": "text/x-python",
   "name": "python",
   "nbconvert_exporter": "python",
   "pygments_lexer": "ipython3",
   "version": "3.5.2"
  }
 },
 "nbformat": 4,
 "nbformat_minor": 1
}
